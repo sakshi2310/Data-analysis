{
 "cells": [
  {
   "cell_type": "code",
   "execution_count": 172,
   "metadata": {},
   "outputs": [],
   "source": [
    "import pandas as pd\n",
    "import numpy as np\n",
    "import matplotlib.pyplot as plt\n",
    "import seaborn as sns"
   ]
  },
  {
   "cell_type": "code",
   "execution_count": 173,
   "metadata": {},
   "outputs": [],
   "source": [
    "data = pd.read_csv(\"Virat_Kohli.csv\")"
   ]
  },
  {
   "cell_type": "code",
   "execution_count": 174,
   "metadata": {},
   "outputs": [],
   "source": [
    "df = data.copy()"
   ]
  },
  {
   "cell_type": "code",
   "execution_count": 175,
   "metadata": {},
   "outputs": [
    {
     "data": {
      "text/html": [
       "<div>\n",
       "<style scoped>\n",
       "    .dataframe tbody tr th:only-of-type {\n",
       "        vertical-align: middle;\n",
       "    }\n",
       "\n",
       "    .dataframe tbody tr th {\n",
       "        vertical-align: top;\n",
       "    }\n",
       "\n",
       "    .dataframe thead th {\n",
       "        text-align: right;\n",
       "    }\n",
       "</style>\n",
       "<table border=\"1\" class=\"dataframe\">\n",
       "  <thead>\n",
       "    <tr style=\"text-align: right;\">\n",
       "      <th></th>\n",
       "      <th>Runs</th>\n",
       "      <th>BF</th>\n",
       "      <th>4s</th>\n",
       "      <th>6s</th>\n",
       "      <th>SR</th>\n",
       "      <th>Pos</th>\n",
       "      <th>Dismissal</th>\n",
       "      <th>Inns</th>\n",
       "      <th>Opposition</th>\n",
       "      <th>Ground</th>\n",
       "      <th>Start Date</th>\n",
       "    </tr>\n",
       "  </thead>\n",
       "  <tbody>\n",
       "    <tr>\n",
       "      <th>0</th>\n",
       "      <td>12</td>\n",
       "      <td>22</td>\n",
       "      <td>1</td>\n",
       "      <td>0</td>\n",
       "      <td>54.54</td>\n",
       "      <td>2.0</td>\n",
       "      <td>lbw</td>\n",
       "      <td>1</td>\n",
       "      <td>v Sri Lanka</td>\n",
       "      <td>Dambulla</td>\n",
       "      <td>18-Aug-08</td>\n",
       "    </tr>\n",
       "    <tr>\n",
       "      <th>1</th>\n",
       "      <td>37</td>\n",
       "      <td>67</td>\n",
       "      <td>6</td>\n",
       "      <td>0</td>\n",
       "      <td>55.22</td>\n",
       "      <td>2.0</td>\n",
       "      <td>caught</td>\n",
       "      <td>2</td>\n",
       "      <td>v Sri Lanka</td>\n",
       "      <td>Dambulla</td>\n",
       "      <td>20-Aug-08</td>\n",
       "    </tr>\n",
       "    <tr>\n",
       "      <th>2</th>\n",
       "      <td>25</td>\n",
       "      <td>38</td>\n",
       "      <td>4</td>\n",
       "      <td>0</td>\n",
       "      <td>65.78</td>\n",
       "      <td>1.0</td>\n",
       "      <td>run out</td>\n",
       "      <td>1</td>\n",
       "      <td>v Sri Lanka</td>\n",
       "      <td>Colombo (RPS)</td>\n",
       "      <td>24-Aug-08</td>\n",
       "    </tr>\n",
       "    <tr>\n",
       "      <th>3</th>\n",
       "      <td>54</td>\n",
       "      <td>66</td>\n",
       "      <td>7</td>\n",
       "      <td>0</td>\n",
       "      <td>81.81</td>\n",
       "      <td>1.0</td>\n",
       "      <td>bowled</td>\n",
       "      <td>1</td>\n",
       "      <td>v Sri Lanka</td>\n",
       "      <td>Colombo (RPS)</td>\n",
       "      <td>27-Aug-08</td>\n",
       "    </tr>\n",
       "    <tr>\n",
       "      <th>4</th>\n",
       "      <td>31</td>\n",
       "      <td>46</td>\n",
       "      <td>3</td>\n",
       "      <td>1</td>\n",
       "      <td>67.39</td>\n",
       "      <td>1.0</td>\n",
       "      <td>lbw</td>\n",
       "      <td>2</td>\n",
       "      <td>v Sri Lanka</td>\n",
       "      <td>Colombo (RPS)</td>\n",
       "      <td>29-Aug-08</td>\n",
       "    </tr>\n",
       "    <tr>\n",
       "      <th>...</th>\n",
       "      <td>...</td>\n",
       "      <td>...</td>\n",
       "      <td>...</td>\n",
       "      <td>...</td>\n",
       "      <td>...</td>\n",
       "      <td>...</td>\n",
       "      <td>...</td>\n",
       "      <td>...</td>\n",
       "      <td>...</td>\n",
       "      <td>...</td>\n",
       "      <td>...</td>\n",
       "    </tr>\n",
       "    <tr>\n",
       "      <th>127</th>\n",
       "      <td>45</td>\n",
       "      <td>51</td>\n",
       "      <td>2</td>\n",
       "      <td>1</td>\n",
       "      <td>88.23</td>\n",
       "      <td>3.0</td>\n",
       "      <td>caught</td>\n",
       "      <td>2</td>\n",
       "      <td>v New Zealand</td>\n",
       "      <td>Ranchi</td>\n",
       "      <td>26-Oct-16</td>\n",
       "    </tr>\n",
       "    <tr>\n",
       "      <th>128</th>\n",
       "      <td>65</td>\n",
       "      <td>76</td>\n",
       "      <td>2</td>\n",
       "      <td>1</td>\n",
       "      <td>85.52</td>\n",
       "      <td>3.0</td>\n",
       "      <td>caught</td>\n",
       "      <td>1</td>\n",
       "      <td>v New Zealand</td>\n",
       "      <td>Visakhapatnam</td>\n",
       "      <td>29-Oct-16</td>\n",
       "    </tr>\n",
       "    <tr>\n",
       "      <th>129</th>\n",
       "      <td>122</td>\n",
       "      <td>105</td>\n",
       "      <td>8</td>\n",
       "      <td>5</td>\n",
       "      <td>116.19</td>\n",
       "      <td>3.0</td>\n",
       "      <td>caught</td>\n",
       "      <td>2</td>\n",
       "      <td>v England</td>\n",
       "      <td>Pune</td>\n",
       "      <td>15-Jan-17</td>\n",
       "    </tr>\n",
       "    <tr>\n",
       "      <th>130</th>\n",
       "      <td>8</td>\n",
       "      <td>5</td>\n",
       "      <td>2</td>\n",
       "      <td>0</td>\n",
       "      <td>160.00</td>\n",
       "      <td>3.0</td>\n",
       "      <td>caught</td>\n",
       "      <td>1</td>\n",
       "      <td>v England</td>\n",
       "      <td>Cuttack</td>\n",
       "      <td>19-Jan-17</td>\n",
       "    </tr>\n",
       "    <tr>\n",
       "      <th>131</th>\n",
       "      <td>55</td>\n",
       "      <td>63</td>\n",
       "      <td>8</td>\n",
       "      <td>0</td>\n",
       "      <td>87.30</td>\n",
       "      <td>3.0</td>\n",
       "      <td>caught</td>\n",
       "      <td>2</td>\n",
       "      <td>v England</td>\n",
       "      <td>Kolkata</td>\n",
       "      <td>22-Jan-17</td>\n",
       "    </tr>\n",
       "  </tbody>\n",
       "</table>\n",
       "<p>132 rows × 11 columns</p>\n",
       "</div>"
      ],
      "text/plain": [
       "     Runs   BF  4s  6s      SR  Pos Dismissal  Inns     Opposition  \\\n",
       "0      12   22   1   0   54.54  2.0       lbw     1    v Sri Lanka   \n",
       "1      37   67   6   0   55.22  2.0    caught     2    v Sri Lanka   \n",
       "2      25   38   4   0   65.78  1.0   run out     1    v Sri Lanka   \n",
       "3      54   66   7   0   81.81  1.0    bowled     1    v Sri Lanka   \n",
       "4      31   46   3   1   67.39  1.0       lbw     2    v Sri Lanka   \n",
       "..    ...  ...  ..  ..     ...  ...       ...   ...            ...   \n",
       "127    45   51   2   1   88.23  3.0    caught     2  v New Zealand   \n",
       "128    65   76   2   1   85.52  3.0    caught     1  v New Zealand   \n",
       "129   122  105   8   5  116.19  3.0    caught     2      v England   \n",
       "130     8    5   2   0  160.00  3.0    caught     1      v England   \n",
       "131    55   63   8   0   87.30  3.0    caught     2      v England   \n",
       "\n",
       "            Ground Start Date  \n",
       "0         Dambulla  18-Aug-08  \n",
       "1         Dambulla  20-Aug-08  \n",
       "2    Colombo (RPS)  24-Aug-08  \n",
       "3    Colombo (RPS)  27-Aug-08  \n",
       "4    Colombo (RPS)  29-Aug-08  \n",
       "..             ...        ...  \n",
       "127         Ranchi  26-Oct-16  \n",
       "128  Visakhapatnam  29-Oct-16  \n",
       "129           Pune  15-Jan-17  \n",
       "130        Cuttack  19-Jan-17  \n",
       "131        Kolkata  22-Jan-17  \n",
       "\n",
       "[132 rows x 11 columns]"
      ]
     },
     "execution_count": 175,
     "metadata": {},
     "output_type": "execute_result"
    }
   ],
   "source": [
    "df"
   ]
  },
  {
   "cell_type": "code",
   "execution_count": 176,
   "metadata": {},
   "outputs": [
    {
     "data": {
      "text/plain": [
       "(132, 11)"
      ]
     },
     "execution_count": 176,
     "metadata": {},
     "output_type": "execute_result"
    }
   ],
   "source": [
    "df.shape"
   ]
  },
  {
   "cell_type": "code",
   "execution_count": 177,
   "metadata": {},
   "outputs": [
    {
     "name": "stdout",
     "output_type": "stream",
     "text": [
      "<class 'pandas.core.frame.DataFrame'>\n",
      "RangeIndex: 132 entries, 0 to 131\n",
      "Data columns (total 11 columns):\n",
      " #   Column      Non-Null Count  Dtype  \n",
      "---  ------      --------------  -----  \n",
      " 0   Runs        132 non-null    int64  \n",
      " 1   BF          132 non-null    int64  \n",
      " 2   4s          132 non-null    int64  \n",
      " 3   6s          132 non-null    int64  \n",
      " 4   SR          132 non-null    float64\n",
      " 5   Pos         132 non-null    float64\n",
      " 6   Dismissal   132 non-null    object \n",
      " 7   Inns        132 non-null    int64  \n",
      " 8   Opposition  132 non-null    object \n",
      " 9   Ground      132 non-null    object \n",
      " 10  Start Date  132 non-null    object \n",
      "dtypes: float64(2), int64(5), object(4)\n",
      "memory usage: 11.5+ KB\n"
     ]
    }
   ],
   "source": [
    "df.info()"
   ]
  },
  {
   "cell_type": "markdown",
   "metadata": {},
   "source": [
    "<ul>\n",
    "     <li>Runs: Runs in the match</li>\n",
    "     <li>BF: Balls faced in the match</li>\n",
    "     <li>4s: number of 4s in a match</li>\n",
    "     <li>6s: number of 6s in a match</li>\n",
    "     <li>SR: Strike Rate in the match</li>\n",
    "              stike rate : (run scored / total ball faced ) * 100\n",
    "     <li>Pos: Batting Position in the match</li>\n",
    "     <li>Dismissal: How Virat Kohli got out in the match</li>\n",
    "     <li>Inns: 1st and 2nd innings</li>\n",
    "     <li>Opposition: Who was the opponent of India</li>\n",
    "     <li>Ground: Venue of the match</li>\n",
    "     <li>Start Date: Date of the match</li>\n",
    "</ul>"
   ]
  },
  {
   "cell_type": "code",
   "execution_count": 178,
   "metadata": {},
   "outputs": [
    {
     "data": {
      "text/plain": [
       "Runs          0\n",
       "BF            0\n",
       "4s            0\n",
       "6s            0\n",
       "SR            0\n",
       "Pos           0\n",
       "Dismissal     0\n",
       "Inns          0\n",
       "Opposition    0\n",
       "Ground        0\n",
       "Start Date    0\n",
       "dtype: int64"
      ]
     },
     "execution_count": 178,
     "metadata": {},
     "output_type": "execute_result"
    }
   ],
   "source": [
    "df.isnull().sum()"
   ]
  },
  {
   "cell_type": "markdown",
   "metadata": {},
   "source": [
    "#### Here we can say that not any null values in this data"
   ]
  },
  {
   "cell_type": "code",
   "execution_count": 179,
   "metadata": {},
   "outputs": [
    {
     "data": {
      "text/html": [
       "<div>\n",
       "<style scoped>\n",
       "    .dataframe tbody tr th:only-of-type {\n",
       "        vertical-align: middle;\n",
       "    }\n",
       "\n",
       "    .dataframe tbody tr th {\n",
       "        vertical-align: top;\n",
       "    }\n",
       "\n",
       "    .dataframe thead th {\n",
       "        text-align: right;\n",
       "    }\n",
       "</style>\n",
       "<table border=\"1\" class=\"dataframe\">\n",
       "  <thead>\n",
       "    <tr style=\"text-align: right;\">\n",
       "      <th></th>\n",
       "      <th>Runs</th>\n",
       "      <th>BF</th>\n",
       "      <th>4s</th>\n",
       "      <th>6s</th>\n",
       "      <th>SR</th>\n",
       "      <th>Pos</th>\n",
       "      <th>Inns</th>\n",
       "    </tr>\n",
       "  </thead>\n",
       "  <tbody>\n",
       "    <tr>\n",
       "      <th>count</th>\n",
       "      <td>132.000000</td>\n",
       "      <td>132.000000</td>\n",
       "      <td>132.000000</td>\n",
       "      <td>132.000000</td>\n",
       "      <td>132.000000</td>\n",
       "      <td>132.000000</td>\n",
       "      <td>132.000000</td>\n",
       "    </tr>\n",
       "    <tr>\n",
       "      <th>mean</th>\n",
       "      <td>46.848485</td>\n",
       "      <td>50.871212</td>\n",
       "      <td>4.371212</td>\n",
       "      <td>0.545455</td>\n",
       "      <td>76.991212</td>\n",
       "      <td>3.303030</td>\n",
       "      <td>1.575758</td>\n",
       "    </tr>\n",
       "    <tr>\n",
       "      <th>std</th>\n",
       "      <td>41.994635</td>\n",
       "      <td>38.729716</td>\n",
       "      <td>4.404032</td>\n",
       "      <td>1.086795</td>\n",
       "      <td>37.874491</td>\n",
       "      <td>0.873174</td>\n",
       "      <td>0.496110</td>\n",
       "    </tr>\n",
       "    <tr>\n",
       "      <th>min</th>\n",
       "      <td>0.000000</td>\n",
       "      <td>0.000000</td>\n",
       "      <td>0.000000</td>\n",
       "      <td>0.000000</td>\n",
       "      <td>0.000000</td>\n",
       "      <td>1.000000</td>\n",
       "      <td>1.000000</td>\n",
       "    </tr>\n",
       "    <tr>\n",
       "      <th>25%</th>\n",
       "      <td>10.000000</td>\n",
       "      <td>17.750000</td>\n",
       "      <td>1.000000</td>\n",
       "      <td>0.000000</td>\n",
       "      <td>61.702500</td>\n",
       "      <td>3.000000</td>\n",
       "      <td>1.000000</td>\n",
       "    </tr>\n",
       "    <tr>\n",
       "      <th>50%</th>\n",
       "      <td>32.500000</td>\n",
       "      <td>42.500000</td>\n",
       "      <td>3.000000</td>\n",
       "      <td>0.000000</td>\n",
       "      <td>78.710000</td>\n",
       "      <td>3.000000</td>\n",
       "      <td>2.000000</td>\n",
       "    </tr>\n",
       "    <tr>\n",
       "      <th>75%</th>\n",
       "      <td>80.250000</td>\n",
       "      <td>82.250000</td>\n",
       "      <td>7.000000</td>\n",
       "      <td>1.000000</td>\n",
       "      <td>100.000000</td>\n",
       "      <td>4.000000</td>\n",
       "      <td>2.000000</td>\n",
       "    </tr>\n",
       "    <tr>\n",
       "      <th>max</th>\n",
       "      <td>154.000000</td>\n",
       "      <td>140.000000</td>\n",
       "      <td>18.000000</td>\n",
       "      <td>7.000000</td>\n",
       "      <td>209.090000</td>\n",
       "      <td>7.000000</td>\n",
       "      <td>2.000000</td>\n",
       "    </tr>\n",
       "  </tbody>\n",
       "</table>\n",
       "</div>"
      ],
      "text/plain": [
       "             Runs          BF          4s          6s          SR         Pos  \\\n",
       "count  132.000000  132.000000  132.000000  132.000000  132.000000  132.000000   \n",
       "mean    46.848485   50.871212    4.371212    0.545455   76.991212    3.303030   \n",
       "std     41.994635   38.729716    4.404032    1.086795   37.874491    0.873174   \n",
       "min      0.000000    0.000000    0.000000    0.000000    0.000000    1.000000   \n",
       "25%     10.000000   17.750000    1.000000    0.000000   61.702500    3.000000   \n",
       "50%     32.500000   42.500000    3.000000    0.000000   78.710000    3.000000   \n",
       "75%     80.250000   82.250000    7.000000    1.000000  100.000000    4.000000   \n",
       "max    154.000000  140.000000   18.000000    7.000000  209.090000    7.000000   \n",
       "\n",
       "             Inns  \n",
       "count  132.000000  \n",
       "mean     1.575758  \n",
       "std      0.496110  \n",
       "min      1.000000  \n",
       "25%      1.000000  \n",
       "50%      2.000000  \n",
       "75%      2.000000  \n",
       "max      2.000000  "
      ]
     },
     "execution_count": 179,
     "metadata": {},
     "output_type": "execute_result"
    }
   ],
   "source": [
    "df.describe()"
   ]
  },
  {
   "cell_type": "code",
   "execution_count": 181,
   "metadata": {},
   "outputs": [],
   "source": [
    "df[\"Year\"] = df[\"Start Date\"].apply(lambda x: \"20\" + x.split(\"-\")[-1])"
   ]
  },
  {
   "cell_type": "code",
   "execution_count": 182,
   "metadata": {},
   "outputs": [
    {
     "data": {
      "text/html": [
       "<div>\n",
       "<style scoped>\n",
       "    .dataframe tbody tr th:only-of-type {\n",
       "        vertical-align: middle;\n",
       "    }\n",
       "\n",
       "    .dataframe tbody tr th {\n",
       "        vertical-align: top;\n",
       "    }\n",
       "\n",
       "    .dataframe thead th {\n",
       "        text-align: right;\n",
       "    }\n",
       "</style>\n",
       "<table border=\"1\" class=\"dataframe\">\n",
       "  <thead>\n",
       "    <tr style=\"text-align: right;\">\n",
       "      <th></th>\n",
       "      <th>Runs</th>\n",
       "      <th>BF</th>\n",
       "      <th>4s</th>\n",
       "      <th>6s</th>\n",
       "      <th>SR</th>\n",
       "      <th>Pos</th>\n",
       "      <th>Dismissal</th>\n",
       "      <th>Inns</th>\n",
       "      <th>Opposition</th>\n",
       "      <th>Ground</th>\n",
       "      <th>Start Date</th>\n",
       "      <th>Year</th>\n",
       "    </tr>\n",
       "  </thead>\n",
       "  <tbody>\n",
       "    <tr>\n",
       "      <th>0</th>\n",
       "      <td>12</td>\n",
       "      <td>22</td>\n",
       "      <td>1</td>\n",
       "      <td>0</td>\n",
       "      <td>54.54</td>\n",
       "      <td>2.0</td>\n",
       "      <td>lbw</td>\n",
       "      <td>1</td>\n",
       "      <td>v Sri Lanka</td>\n",
       "      <td>Dambulla</td>\n",
       "      <td>18-Aug-08</td>\n",
       "      <td>2008</td>\n",
       "    </tr>\n",
       "    <tr>\n",
       "      <th>1</th>\n",
       "      <td>37</td>\n",
       "      <td>67</td>\n",
       "      <td>6</td>\n",
       "      <td>0</td>\n",
       "      <td>55.22</td>\n",
       "      <td>2.0</td>\n",
       "      <td>caught</td>\n",
       "      <td>2</td>\n",
       "      <td>v Sri Lanka</td>\n",
       "      <td>Dambulla</td>\n",
       "      <td>20-Aug-08</td>\n",
       "      <td>2008</td>\n",
       "    </tr>\n",
       "    <tr>\n",
       "      <th>2</th>\n",
       "      <td>25</td>\n",
       "      <td>38</td>\n",
       "      <td>4</td>\n",
       "      <td>0</td>\n",
       "      <td>65.78</td>\n",
       "      <td>1.0</td>\n",
       "      <td>run out</td>\n",
       "      <td>1</td>\n",
       "      <td>v Sri Lanka</td>\n",
       "      <td>Colombo (RPS)</td>\n",
       "      <td>24-Aug-08</td>\n",
       "      <td>2008</td>\n",
       "    </tr>\n",
       "    <tr>\n",
       "      <th>3</th>\n",
       "      <td>54</td>\n",
       "      <td>66</td>\n",
       "      <td>7</td>\n",
       "      <td>0</td>\n",
       "      <td>81.81</td>\n",
       "      <td>1.0</td>\n",
       "      <td>bowled</td>\n",
       "      <td>1</td>\n",
       "      <td>v Sri Lanka</td>\n",
       "      <td>Colombo (RPS)</td>\n",
       "      <td>27-Aug-08</td>\n",
       "      <td>2008</td>\n",
       "    </tr>\n",
       "    <tr>\n",
       "      <th>4</th>\n",
       "      <td>31</td>\n",
       "      <td>46</td>\n",
       "      <td>3</td>\n",
       "      <td>1</td>\n",
       "      <td>67.39</td>\n",
       "      <td>1.0</td>\n",
       "      <td>lbw</td>\n",
       "      <td>2</td>\n",
       "      <td>v Sri Lanka</td>\n",
       "      <td>Colombo (RPS)</td>\n",
       "      <td>29-Aug-08</td>\n",
       "      <td>2008</td>\n",
       "    </tr>\n",
       "    <tr>\n",
       "      <th>...</th>\n",
       "      <td>...</td>\n",
       "      <td>...</td>\n",
       "      <td>...</td>\n",
       "      <td>...</td>\n",
       "      <td>...</td>\n",
       "      <td>...</td>\n",
       "      <td>...</td>\n",
       "      <td>...</td>\n",
       "      <td>...</td>\n",
       "      <td>...</td>\n",
       "      <td>...</td>\n",
       "      <td>...</td>\n",
       "    </tr>\n",
       "    <tr>\n",
       "      <th>127</th>\n",
       "      <td>45</td>\n",
       "      <td>51</td>\n",
       "      <td>2</td>\n",
       "      <td>1</td>\n",
       "      <td>88.23</td>\n",
       "      <td>3.0</td>\n",
       "      <td>caught</td>\n",
       "      <td>2</td>\n",
       "      <td>v New Zealand</td>\n",
       "      <td>Ranchi</td>\n",
       "      <td>26-Oct-16</td>\n",
       "      <td>2016</td>\n",
       "    </tr>\n",
       "    <tr>\n",
       "      <th>128</th>\n",
       "      <td>65</td>\n",
       "      <td>76</td>\n",
       "      <td>2</td>\n",
       "      <td>1</td>\n",
       "      <td>85.52</td>\n",
       "      <td>3.0</td>\n",
       "      <td>caught</td>\n",
       "      <td>1</td>\n",
       "      <td>v New Zealand</td>\n",
       "      <td>Visakhapatnam</td>\n",
       "      <td>29-Oct-16</td>\n",
       "      <td>2016</td>\n",
       "    </tr>\n",
       "    <tr>\n",
       "      <th>129</th>\n",
       "      <td>122</td>\n",
       "      <td>105</td>\n",
       "      <td>8</td>\n",
       "      <td>5</td>\n",
       "      <td>116.19</td>\n",
       "      <td>3.0</td>\n",
       "      <td>caught</td>\n",
       "      <td>2</td>\n",
       "      <td>v England</td>\n",
       "      <td>Pune</td>\n",
       "      <td>15-Jan-17</td>\n",
       "      <td>2017</td>\n",
       "    </tr>\n",
       "    <tr>\n",
       "      <th>130</th>\n",
       "      <td>8</td>\n",
       "      <td>5</td>\n",
       "      <td>2</td>\n",
       "      <td>0</td>\n",
       "      <td>160.00</td>\n",
       "      <td>3.0</td>\n",
       "      <td>caught</td>\n",
       "      <td>1</td>\n",
       "      <td>v England</td>\n",
       "      <td>Cuttack</td>\n",
       "      <td>19-Jan-17</td>\n",
       "      <td>2017</td>\n",
       "    </tr>\n",
       "    <tr>\n",
       "      <th>131</th>\n",
       "      <td>55</td>\n",
       "      <td>63</td>\n",
       "      <td>8</td>\n",
       "      <td>0</td>\n",
       "      <td>87.30</td>\n",
       "      <td>3.0</td>\n",
       "      <td>caught</td>\n",
       "      <td>2</td>\n",
       "      <td>v England</td>\n",
       "      <td>Kolkata</td>\n",
       "      <td>22-Jan-17</td>\n",
       "      <td>2017</td>\n",
       "    </tr>\n",
       "  </tbody>\n",
       "</table>\n",
       "<p>132 rows × 12 columns</p>\n",
       "</div>"
      ],
      "text/plain": [
       "     Runs   BF  4s  6s      SR  Pos Dismissal  Inns     Opposition  \\\n",
       "0      12   22   1   0   54.54  2.0       lbw     1    v Sri Lanka   \n",
       "1      37   67   6   0   55.22  2.0    caught     2    v Sri Lanka   \n",
       "2      25   38   4   0   65.78  1.0   run out     1    v Sri Lanka   \n",
       "3      54   66   7   0   81.81  1.0    bowled     1    v Sri Lanka   \n",
       "4      31   46   3   1   67.39  1.0       lbw     2    v Sri Lanka   \n",
       "..    ...  ...  ..  ..     ...  ...       ...   ...            ...   \n",
       "127    45   51   2   1   88.23  3.0    caught     2  v New Zealand   \n",
       "128    65   76   2   1   85.52  3.0    caught     1  v New Zealand   \n",
       "129   122  105   8   5  116.19  3.0    caught     2      v England   \n",
       "130     8    5   2   0  160.00  3.0    caught     1      v England   \n",
       "131    55   63   8   0   87.30  3.0    caught     2      v England   \n",
       "\n",
       "            Ground Start Date  Year  \n",
       "0         Dambulla  18-Aug-08  2008  \n",
       "1         Dambulla  20-Aug-08  2008  \n",
       "2    Colombo (RPS)  24-Aug-08  2008  \n",
       "3    Colombo (RPS)  27-Aug-08  2008  \n",
       "4    Colombo (RPS)  29-Aug-08  2008  \n",
       "..             ...        ...   ...  \n",
       "127         Ranchi  26-Oct-16  2016  \n",
       "128  Visakhapatnam  29-Oct-16  2016  \n",
       "129           Pune  15-Jan-17  2017  \n",
       "130        Cuttack  19-Jan-17  2017  \n",
       "131        Kolkata  22-Jan-17  2017  \n",
       "\n",
       "[132 rows x 12 columns]"
      ]
     },
     "execution_count": 182,
     "metadata": {},
     "output_type": "execute_result"
    }
   ],
   "source": [
    "df"
   ]
  },
  {
   "cell_type": "code",
   "execution_count": 183,
   "metadata": {},
   "outputs": [
    {
     "data": {
      "text/plain": [
       "array(['2008', '2009', '2010', '2011', '2012', '2013', '2014', '2015',\n",
       "       '2016', '2017'], dtype=object)"
      ]
     },
     "execution_count": 183,
     "metadata": {},
     "output_type": "execute_result"
    }
   ],
   "source": [
    "df[\"Year\"].unique()"
   ]
  },
  {
   "cell_type": "code",
   "execution_count": 184,
   "metadata": {},
   "outputs": [
    {
     "data": {
      "text/plain": [
       "Year\n",
       "2008     159\n",
       "2009     230\n",
       "2010     726\n",
       "2011    1302\n",
       "2012     444\n",
       "2013    1100\n",
       "2014     995\n",
       "2015     304\n",
       "2016     739\n",
       "2017     185\n",
       "Name: Runs, dtype: int64"
      ]
     },
     "execution_count": 184,
     "metadata": {},
     "output_type": "execute_result"
    }
   ],
   "source": [
    "df.groupby(\"Year\")[\"Runs\"].sum()"
   ]
  },
  {
   "cell_type": "code",
   "execution_count": 305,
   "metadata": {},
   "outputs": [
    {
     "name": "stderr",
     "output_type": "stream",
     "text": [
      "C:\\Users\\admin\\AppData\\Local\\Temp\\ipykernel_18524\\1050150486.py:13: FutureWarning: Series.__getitem__ treating keys as positions is deprecated. In a future version, integer keys will always be treated as labels (consistent with DataFrame behavior). To access a value by position, use `ser.iloc[pos]`\n",
      "  plt.text(years[i], values[i], str(values[i]),ha=\"center\" ,va=\"bottom\")\n"
     ]
    },
    {
     "data": {
      "text/plain": [
       "(0.0, 1400.0)"
      ]
     },
     "execution_count": 305,
     "metadata": {},
     "output_type": "execute_result"
    },
    {
     "data": {
      "image/png": "[encoded data removed]",
      "text/plain": [
       "<Figure size 1200x500 with 1 Axes>"
      ]
     },
     "metadata": {},
     "output_type": "display_data"
    }
   ],
   "source": [
    "years = df[\"Year\"].unique()\n",
    "values = df.groupby(\"Year\")[\"Runs\"].sum()\n",
    "plt.figure(figsize=(12, 5))\n",
    "\n",
    "\n",
    "sns.barplot(x=df[\"Year\"].unique(), y=df.groupby(\"Year\")[\"Runs\"].sum())\n",
    "\n",
    "\n",
    "plt.xlabel(\"Year\")\n",
    "\n",
    "\n",
    "plt.ylabel(\"Total Runs\")\n",
    "\n",
    "\n",
    "plt.title(\"Total run of Years\")\n",
    "for i in range(len(years)):\n",
    "    plt.text(years[i], values[i], str(values[i]), ha=\"center\", va=\"bottom\")\n",
    "\n",
    "\n",
    "plt.ylim(0, 1400)"
   ]
  },
  {
   "cell_type": "markdown",
   "metadata": {},
   "source": [
    "#### Here the show the Graph of in the particular year how Run was scored by virat kohli\n"
   ]
  },
  {
   "cell_type": "code",
   "execution_count": 186,
   "metadata": {},
   "outputs": [
    {
     "data": {
      "text/plain": [
       "6184"
      ]
     },
     "execution_count": 186,
     "metadata": {},
     "output_type": "execute_result"
    }
   ],
   "source": [
    "df[\"Runs\"].sum()"
   ]
  },
  {
   "cell_type": "code",
   "execution_count": 311,
   "metadata": {},
   "outputs": [
    {
     "name": "stderr",
     "output_type": "stream",
     "text": [
      "C:\\Users\\admin\\AppData\\Local\\Temp\\ipykernel_18524\\3814630935.py:11: FutureWarning: Series.__getitem__ treating keys as positions is deprecated. In a future version, integer keys will always be treated as labels (consistent with DataFrame behavior). To access a value by position, use `ser.iloc[pos]`\n",
      "  plt.text(years[i],values[i],str(round(values[i])),ha=\"center\", va='bottom')\n"
     ]
    },
    {
     "data": {
      "image/png": "[encoded data removed]",
      "text/plain": [
       "<Figure size 1200x500 with 1 Axes>"
      ]
     },
     "metadata": {},
     "output_type": "display_data"
    }
   ],
   "source": [
    "years = df[\"Year\"].unique()\n",
    "values = df.groupby(\"Year\")[\"Runs\"].mean()\n",
    "plt.figure(figsize=(12, 5))\n",
    "\n",
    "\n",
    "\n",
    "sns.barplot(x=df[\"Year\"].unique(), y=df.groupby(\"Year\")[\"Runs\"].mean())\n",
    "\n",
    "\n",
    "\n",
    "plt.xlabel(\"Years\")\n",
    "\n",
    "\n",
    "\n",
    "plt.ylabel(\"Average Runs\")\n",
    "\n",
    "\n",
    "\n",
    "plt.title(\"Average Run of Year\")\n",
    "\n",
    "\n",
    "\n",
    "plt.plot(df[\"Runs\"].mean(), linestyle=\"--\", label=\"Mean\")\n",
    "\n",
    "\n",
    "\n",
    "plt.axhline(y=df[\"Runs\"].mean(), color=\"r\", linestyle=\"--\")\n",
    "for i in range(len(years)):\n",
    "    plt.text(years[i], values[i], str(round(values[i])), ha=\"center\", va=\"bottom\")"
   ]
  },
  {
   "cell_type": "markdown",
   "metadata": {},
   "source": [
    "#### Here the Red line is shown the average run of virat kholi"
   ]
  },
  {
   "cell_type": "code",
   "execution_count": 188,
   "metadata": {},
   "outputs": [
    {
     "data": {
      "text/plain": [
       "46.84848484848485"
      ]
     },
     "execution_count": 188,
     "metadata": {},
     "output_type": "execute_result"
    }
   ],
   "source": [
    "df[\"Runs\"].mean()"
   ]
  },
  {
   "cell_type": "code",
   "execution_count": 189,
   "metadata": {},
   "outputs": [
    {
     "data": {
      "text/plain": [
       "array([2., 1., 7., 4., 3., 5., 6.])"
      ]
     },
     "execution_count": 189,
     "metadata": {},
     "output_type": "execute_result"
    }
   ],
   "source": [
    "df[\"Pos\"].unique()"
   ]
  },
  {
   "cell_type": "code",
   "execution_count": 190,
   "metadata": {},
   "outputs": [],
   "source": [
    "df[\"Pos\"] = df[\"Pos\"].astype(\"int64\")"
   ]
  },
  {
   "cell_type": "code",
   "execution_count": 191,
   "metadata": {},
   "outputs": [
    {
     "data": {
      "text/plain": [
       "[1, 2, 3, 4, 5, 6, 7]"
      ]
     },
     "execution_count": 191,
     "metadata": {},
     "output_type": "execute_result"
    }
   ],
   "source": [
    "sorted(df[\"Pos\"].unique())"
   ]
  },
  {
   "cell_type": "code",
   "execution_count": 192,
   "metadata": {},
   "outputs": [
    {
     "data": {
      "text/plain": [
       "Pos\n",
       "1     3\n",
       "2     3\n",
       "3    91\n",
       "4    28\n",
       "5     3\n",
       "6     1\n",
       "7     3\n",
       "Name: count, dtype: int64"
      ]
     },
     "execution_count": 192,
     "metadata": {},
     "output_type": "execute_result"
    }
   ],
   "source": [
    "df[\"Pos\"].value_counts().sort_index()"
   ]
  },
  {
   "cell_type": "code",
   "execution_count": 315,
   "metadata": {},
   "outputs": [
    {
     "data": {
      "image/png": "[encoded data removed]",
      "text/plain": [
       "<Figure size 1200x500 with 1 Axes>"
      ]
     },
     "metadata": {},
     "output_type": "display_data"
    }
   ],
   "source": [
    "val = df[\"Pos\"].value_counts().sort_index()\n",
    "plt.figure(figsize=(12, 5))\n",
    "plt.title(\"virat Kholi Position\")\n",
    "\n",
    "\n",
    "sns.barplot(x=sorted(df[\"Pos\"].unique()), y=df[\"Pos\"].value_counts().sort_index())\n",
    "\n",
    "\n",
    "plt.xlabel(\"Position\")\n",
    "for index, value in enumerate(val):\n",
    "    plt.text(index, value, str(value), ha=\"center\", va=\"bottom\")"
   ]
  },
  {
   "cell_type": "markdown",
   "metadata": {},
   "source": [
    "#### Hear the x axis is show the postion in which virat kholi is mostly go for batting in 3 position"
   ]
  },
  {
   "cell_type": "code",
   "execution_count": 194,
   "metadata": {},
   "outputs": [
    {
     "data": {
      "text/plain": [
       "Pos\n",
       "1     110\n",
       "2      51\n",
       "3    4477\n",
       "4    1370\n",
       "5     123\n",
       "6      23\n",
       "7      30\n",
       "Name: Runs, dtype: int64"
      ]
     },
     "execution_count": 194,
     "metadata": {},
     "output_type": "execute_result"
    }
   ],
   "source": [
    "df.groupby(\"Pos\")[\"Runs\"].sum()"
   ]
  },
  {
   "cell_type": "code",
   "execution_count": 321,
   "metadata": {},
   "outputs": [
    {
     "data": {
      "image/png": "[encoded data removed]",
      "text/plain": [
       "<Figure size 1200x500 with 1 Axes>"
      ]
     },
     "metadata": {},
     "output_type": "display_data"
    }
   ],
   "source": [
    "val = df.groupby(\"Pos\")[\"Runs\"].sum()\n",
    "plt.figure(figsize=(12, 5))\n",
    "plt.title(\"virat Kholi Position With Total Runs\")\n",
    "\n",
    "\n",
    "sns.barplot(x=sorted(df[\"Pos\"].unique()), y=df.groupby(\"Pos\")[\"Runs\"].sum())\n",
    "plt.xlabel(\"Position\")\n",
    "for index, value in enumerate(val):\n",
    "    plt.text(index, value, str(value), ha=\"center\", va=\"bottom\")"
   ]
  },
  {
   "cell_type": "markdown",
   "metadata": {},
   "source": [
    "#### Hear the x axis is show the postion in which virat kholi do the total runs"
   ]
  },
  {
   "cell_type": "code",
   "execution_count": 196,
   "metadata": {},
   "outputs": [
    {
     "data": {
      "text/plain": [
       "array([1, 2], dtype=int64)"
      ]
     },
     "execution_count": 196,
     "metadata": {},
     "output_type": "execute_result"
    }
   ],
   "source": [
    "df[\"Inns\"].unique()"
   ]
  },
  {
   "cell_type": "code",
   "execution_count": 197,
   "metadata": {},
   "outputs": [
    {
     "data": {
      "text/plain": [
       "Inns\n",
       "1    56\n",
       "2    76\n",
       "Name: count, dtype: int64"
      ]
     },
     "execution_count": 197,
     "metadata": {},
     "output_type": "execute_result"
    }
   ],
   "source": [
    "df[\"Inns\"].value_counts().sort_index()"
   ]
  },
  {
   "cell_type": "code",
   "execution_count": 324,
   "metadata": {},
   "outputs": [
    {
     "data": {
      "image/png": "[encoded data removed]",
      "text/plain": [
       "<Figure size 640x480 with 1 Axes>"
      ]
     },
     "metadata": {},
     "output_type": "display_data"
    }
   ],
   "source": [
    "val = df[\"Inns\"].value_counts().sort_index()\n",
    "sns.barplot(\n",
    "\n",
    "    x=df[\"Inns\"].unique(),\n",
    "\n",
    "    y=df[\"Inns\"].value_counts().sort_index(),\n",
    "\n",
    "    hue=df[\"Inns\"].unique(),\n",
    ")\n",
    "\n",
    "plt.xlabel(\"Inning\")\n",
    "\n",
    "plt.title(\"Indian team Inning count\")\n",
    "for index, value in enumerate(val):\n",
    "    plt.text(index, value, str(value), ha=\"center\", va=\"bottom\")"
   ]
  },
  {
   "cell_type": "markdown",
   "metadata": {},
   "source": [
    "#### here the show the in which inning mostly played by indian team"
   ]
  },
  {
   "cell_type": "code",
   "execution_count": 199,
   "metadata": {},
   "outputs": [
    {
     "data": {
      "text/plain": [
       "Inns\n",
       "1    2317\n",
       "2    3867\n",
       "Name: Runs, dtype: int64"
      ]
     },
     "execution_count": 199,
     "metadata": {},
     "output_type": "execute_result"
    }
   ],
   "source": [
    "df.groupby(\"Inns\")[\"Runs\"].sum()"
   ]
  },
  {
   "cell_type": "code",
   "execution_count": 325,
   "metadata": {},
   "outputs": [
    {
     "data": {
      "image/png": "[encoded data removed]",
      "text/plain": [
       "<Figure size 640x480 with 1 Axes>"
      ]
     },
     "metadata": {},
     "output_type": "display_data"
    }
   ],
   "source": [
    "val = df.groupby(\"Inns\")[\"Runs\"].sum()\n",
    "sns.barplot(\n",
    "\n",
    "    x=df[\"Inns\"].unique(), y=df.groupby(\"Inns\")[\"Runs\"].sum(), hue=df[\"Inns\"].unique()\n",
    ")\n",
    "\n",
    "plt.xlabel(\"Innings\")\n",
    "\n",
    "plt.title(\"Total Run on Innings\")\n",
    "for index, value in enumerate(val):\n",
    "    plt.text(index, value, str(value), ha=\"center\", va=\"bottom\")"
   ]
  },
  {
   "cell_type": "markdown",
   "metadata": {},
   "source": [
    "#### Here the show in which inning Indian team played well and make the Better runscore"
   ]
  },
  {
   "cell_type": "code",
   "execution_count": 202,
   "metadata": {},
   "outputs": [
    {
     "data": {
      "text/plain": [
       "['bowled', 'caught', 'hit wicket', 'lbw', 'not out', 'run out', 'stumped']"
      ]
     },
     "execution_count": 202,
     "metadata": {},
     "output_type": "execute_result"
    }
   ],
   "source": [
    "sorted(df[\"Dismissal\"].unique())"
   ]
  },
  {
   "cell_type": "code",
   "execution_count": 203,
   "metadata": {},
   "outputs": [
    {
     "data": {
      "text/plain": [
       "Dismissal\n",
       "bowled        10\n",
       "caught        84\n",
       "hit wicket     1\n",
       "lbw            9\n",
       "not out       17\n",
       "run out       10\n",
       "stumped        1\n",
       "Name: count, dtype: int64"
      ]
     },
     "execution_count": 203,
     "metadata": {},
     "output_type": "execute_result"
    }
   ],
   "source": [
    "df[\"Dismissal\"].value_counts().sort_index()"
   ]
  },
  {
   "cell_type": "code",
   "execution_count": 204,
   "metadata": {},
   "outputs": [
    {
     "data": {
      "image/png": "[encoded data removed]",
      "text/plain": [
       "<Figure size 640x480 with 1 Axes>"
      ]
     },
     "metadata": {},
     "output_type": "display_data"
    }
   ],
   "source": [
    "plt.pie(\n",
    "    df[\"Dismissal\"].value_counts().sort_index(), labels=sorted(df[\"Dismissal\"].unique())\n",
    ")\n",
    "plt.show()"
   ]
  },
  {
   "cell_type": "markdown",
   "metadata": {},
   "source": [
    "Here we can show that virat kohli most of dismissal by the caught of ball"
   ]
  },
  {
   "cell_type": "code",
   "execution_count": 205,
   "metadata": {},
   "outputs": [],
   "source": [
    "centuries = df[df[\"Runs\"] > 100]"
   ]
  },
  {
   "cell_type": "code",
   "execution_count": 206,
   "metadata": {},
   "outputs": [
    {
     "data": {
      "text/html": [
       "<div>\n",
       "<style scoped>\n",
       "    .dataframe tbody tr th:only-of-type {\n",
       "        vertical-align: middle;\n",
       "    }\n",
       "\n",
       "    .dataframe tbody tr th {\n",
       "        vertical-align: top;\n",
       "    }\n",
       "\n",
       "    .dataframe thead th {\n",
       "        text-align: right;\n",
       "    }\n",
       "</style>\n",
       "<table border=\"1\" class=\"dataframe\">\n",
       "  <thead>\n",
       "    <tr style=\"text-align: right;\">\n",
       "      <th></th>\n",
       "      <th>Runs</th>\n",
       "      <th>BF</th>\n",
       "      <th>4s</th>\n",
       "      <th>6s</th>\n",
       "      <th>SR</th>\n",
       "      <th>Pos</th>\n",
       "      <th>Dismissal</th>\n",
       "      <th>Inns</th>\n",
       "      <th>Opposition</th>\n",
       "      <th>Ground</th>\n",
       "      <th>Start Date</th>\n",
       "      <th>Year</th>\n",
       "    </tr>\n",
       "  </thead>\n",
       "  <tbody>\n",
       "    <tr>\n",
       "      <th>10</th>\n",
       "      <td>107</td>\n",
       "      <td>114</td>\n",
       "      <td>11</td>\n",
       "      <td>1</td>\n",
       "      <td>93.85</td>\n",
       "      <td>4</td>\n",
       "      <td>caught</td>\n",
       "      <td>2</td>\n",
       "      <td>v Sri Lanka</td>\n",
       "      <td>Kolkata</td>\n",
       "      <td>24-Dec-09</td>\n",
       "      <td>2009</td>\n",
       "    </tr>\n",
       "    <tr>\n",
       "      <th>12</th>\n",
       "      <td>102</td>\n",
       "      <td>95</td>\n",
       "      <td>11</td>\n",
       "      <td>0</td>\n",
       "      <td>107.36</td>\n",
       "      <td>3</td>\n",
       "      <td>not out</td>\n",
       "      <td>2</td>\n",
       "      <td>v Bangladesh</td>\n",
       "      <td>Dhaka</td>\n",
       "      <td>11-Jan-10</td>\n",
       "      <td>2010</td>\n",
       "    </tr>\n",
       "    <tr>\n",
       "      <th>21</th>\n",
       "      <td>118</td>\n",
       "      <td>121</td>\n",
       "      <td>11</td>\n",
       "      <td>1</td>\n",
       "      <td>97.52</td>\n",
       "      <td>3</td>\n",
       "      <td>caught</td>\n",
       "      <td>2</td>\n",
       "      <td>v Australia</td>\n",
       "      <td>Visakhapatnam</td>\n",
       "      <td>20-Oct-10</td>\n",
       "      <td>2010</td>\n",
       "    </tr>\n",
       "    <tr>\n",
       "      <th>22</th>\n",
       "      <td>105</td>\n",
       "      <td>104</td>\n",
       "      <td>10</td>\n",
       "      <td>0</td>\n",
       "      <td>100.96</td>\n",
       "      <td>3</td>\n",
       "      <td>caught</td>\n",
       "      <td>1</td>\n",
       "      <td>v New Zealand</td>\n",
       "      <td>Guwahati</td>\n",
       "      <td>28-Nov-10</td>\n",
       "      <td>2010</td>\n",
       "    </tr>\n",
       "    <tr>\n",
       "      <th>47</th>\n",
       "      <td>107</td>\n",
       "      <td>93</td>\n",
       "      <td>9</td>\n",
       "      <td>1</td>\n",
       "      <td>115.05</td>\n",
       "      <td>4</td>\n",
       "      <td>hit wicket</td>\n",
       "      <td>1</td>\n",
       "      <td>v England</td>\n",
       "      <td>Cardiff</td>\n",
       "      <td>16-Sep-11</td>\n",
       "      <td>2011</td>\n",
       "    </tr>\n",
       "    <tr>\n",
       "      <th>49</th>\n",
       "      <td>112</td>\n",
       "      <td>98</td>\n",
       "      <td>16</td>\n",
       "      <td>0</td>\n",
       "      <td>114.28</td>\n",
       "      <td>4</td>\n",
       "      <td>not out</td>\n",
       "      <td>2</td>\n",
       "      <td>v England</td>\n",
       "      <td>Delhi</td>\n",
       "      <td>17-Oct-11</td>\n",
       "      <td>2011</td>\n",
       "    </tr>\n",
       "    <tr>\n",
       "      <th>54</th>\n",
       "      <td>117</td>\n",
       "      <td>123</td>\n",
       "      <td>14</td>\n",
       "      <td>0</td>\n",
       "      <td>95.12</td>\n",
       "      <td>4</td>\n",
       "      <td>caught</td>\n",
       "      <td>2</td>\n",
       "      <td>v West Indies</td>\n",
       "      <td>Visakhapatnam</td>\n",
       "      <td>2-Dec-11</td>\n",
       "      <td>2011</td>\n",
       "    </tr>\n",
       "    <tr>\n",
       "      <th>63</th>\n",
       "      <td>106</td>\n",
       "      <td>113</td>\n",
       "      <td>9</td>\n",
       "      <td>0</td>\n",
       "      <td>93.80</td>\n",
       "      <td>3</td>\n",
       "      <td>caught</td>\n",
       "      <td>1</td>\n",
       "      <td>v Sri Lanka</td>\n",
       "      <td>Hambantota</td>\n",
       "      <td>21-Jul-12</td>\n",
       "      <td>2012</td>\n",
       "    </tr>\n",
       "    <tr>\n",
       "      <th>66</th>\n",
       "      <td>128</td>\n",
       "      <td>119</td>\n",
       "      <td>12</td>\n",
       "      <td>1</td>\n",
       "      <td>107.56</td>\n",
       "      <td>3</td>\n",
       "      <td>not out</td>\n",
       "      <td>2</td>\n",
       "      <td>v Sri Lanka</td>\n",
       "      <td>Colombo (RPS)</td>\n",
       "      <td>31-Jul-12</td>\n",
       "      <td>2012</td>\n",
       "    </tr>\n",
       "    <tr>\n",
       "      <th>78</th>\n",
       "      <td>102</td>\n",
       "      <td>83</td>\n",
       "      <td>13</td>\n",
       "      <td>2</td>\n",
       "      <td>122.89</td>\n",
       "      <td>3</td>\n",
       "      <td>caught</td>\n",
       "      <td>1</td>\n",
       "      <td>v West Indies</td>\n",
       "      <td>Port of Spain</td>\n",
       "      <td>5-Jul-13</td>\n",
       "      <td>2013</td>\n",
       "    </tr>\n",
       "    <tr>\n",
       "      <th>79</th>\n",
       "      <td>115</td>\n",
       "      <td>108</td>\n",
       "      <td>13</td>\n",
       "      <td>1</td>\n",
       "      <td>106.48</td>\n",
       "      <td>3</td>\n",
       "      <td>caught</td>\n",
       "      <td>2</td>\n",
       "      <td>v Zimbabwe</td>\n",
       "      <td>Harare</td>\n",
       "      <td>24-Jul-13</td>\n",
       "      <td>2013</td>\n",
       "    </tr>\n",
       "    <tr>\n",
       "      <th>85</th>\n",
       "      <td>115</td>\n",
       "      <td>66</td>\n",
       "      <td>18</td>\n",
       "      <td>1</td>\n",
       "      <td>174.24</td>\n",
       "      <td>3</td>\n",
       "      <td>not out</td>\n",
       "      <td>2</td>\n",
       "      <td>v Australia</td>\n",
       "      <td>Nagpur</td>\n",
       "      <td>30-Oct-13</td>\n",
       "      <td>2013</td>\n",
       "    </tr>\n",
       "    <tr>\n",
       "      <th>92</th>\n",
       "      <td>123</td>\n",
       "      <td>111</td>\n",
       "      <td>11</td>\n",
       "      <td>2</td>\n",
       "      <td>110.81</td>\n",
       "      <td>3</td>\n",
       "      <td>caught</td>\n",
       "      <td>2</td>\n",
       "      <td>v New Zealand</td>\n",
       "      <td>Napier</td>\n",
       "      <td>19-Jan-14</td>\n",
       "      <td>2014</td>\n",
       "    </tr>\n",
       "    <tr>\n",
       "      <th>96</th>\n",
       "      <td>136</td>\n",
       "      <td>122</td>\n",
       "      <td>16</td>\n",
       "      <td>2</td>\n",
       "      <td>111.47</td>\n",
       "      <td>3</td>\n",
       "      <td>bowled</td>\n",
       "      <td>2</td>\n",
       "      <td>v Bangladesh</td>\n",
       "      <td>Fatullah</td>\n",
       "      <td>26-Feb-14</td>\n",
       "      <td>2014</td>\n",
       "    </tr>\n",
       "    <tr>\n",
       "      <th>103</th>\n",
       "      <td>127</td>\n",
       "      <td>114</td>\n",
       "      <td>13</td>\n",
       "      <td>3</td>\n",
       "      <td>111.40</td>\n",
       "      <td>3</td>\n",
       "      <td>run out</td>\n",
       "      <td>1</td>\n",
       "      <td>v West Indies</td>\n",
       "      <td>Dharamsala</td>\n",
       "      <td>17-Oct-14</td>\n",
       "      <td>2014</td>\n",
       "    </tr>\n",
       "    <tr>\n",
       "      <th>108</th>\n",
       "      <td>139</td>\n",
       "      <td>126</td>\n",
       "      <td>12</td>\n",
       "      <td>3</td>\n",
       "      <td>110.31</td>\n",
       "      <td>4</td>\n",
       "      <td>not out</td>\n",
       "      <td>2</td>\n",
       "      <td>v Sri Lanka</td>\n",
       "      <td>Ranchi</td>\n",
       "      <td>16-Nov-14</td>\n",
       "      <td>2014</td>\n",
       "    </tr>\n",
       "    <tr>\n",
       "      <th>117</th>\n",
       "      <td>138</td>\n",
       "      <td>140</td>\n",
       "      <td>6</td>\n",
       "      <td>5</td>\n",
       "      <td>98.57</td>\n",
       "      <td>3</td>\n",
       "      <td>caught</td>\n",
       "      <td>1</td>\n",
       "      <td>v South Africa</td>\n",
       "      <td>Chennai</td>\n",
       "      <td>22-Oct-15</td>\n",
       "      <td>2015</td>\n",
       "    </tr>\n",
       "    <tr>\n",
       "      <th>121</th>\n",
       "      <td>117</td>\n",
       "      <td>117</td>\n",
       "      <td>7</td>\n",
       "      <td>2</td>\n",
       "      <td>100.00</td>\n",
       "      <td>3</td>\n",
       "      <td>caught</td>\n",
       "      <td>1</td>\n",
       "      <td>v Australia</td>\n",
       "      <td>Melbourne</td>\n",
       "      <td>17-Jan-16</td>\n",
       "      <td>2016</td>\n",
       "    </tr>\n",
       "    <tr>\n",
       "      <th>122</th>\n",
       "      <td>106</td>\n",
       "      <td>92</td>\n",
       "      <td>11</td>\n",
       "      <td>1</td>\n",
       "      <td>115.21</td>\n",
       "      <td>3</td>\n",
       "      <td>caught</td>\n",
       "      <td>2</td>\n",
       "      <td>v Australia</td>\n",
       "      <td>Canberra</td>\n",
       "      <td>20-Jan-16</td>\n",
       "      <td>2016</td>\n",
       "    </tr>\n",
       "    <tr>\n",
       "      <th>126</th>\n",
       "      <td>154</td>\n",
       "      <td>134</td>\n",
       "      <td>16</td>\n",
       "      <td>1</td>\n",
       "      <td>114.92</td>\n",
       "      <td>3</td>\n",
       "      <td>not out</td>\n",
       "      <td>2</td>\n",
       "      <td>v New Zealand</td>\n",
       "      <td>Mohali</td>\n",
       "      <td>23-Oct-16</td>\n",
       "      <td>2016</td>\n",
       "    </tr>\n",
       "    <tr>\n",
       "      <th>129</th>\n",
       "      <td>122</td>\n",
       "      <td>105</td>\n",
       "      <td>8</td>\n",
       "      <td>5</td>\n",
       "      <td>116.19</td>\n",
       "      <td>3</td>\n",
       "      <td>caught</td>\n",
       "      <td>2</td>\n",
       "      <td>v England</td>\n",
       "      <td>Pune</td>\n",
       "      <td>15-Jan-17</td>\n",
       "      <td>2017</td>\n",
       "    </tr>\n",
       "  </tbody>\n",
       "</table>\n",
       "</div>"
      ],
      "text/plain": [
       "     Runs   BF  4s  6s      SR  Pos   Dismissal  Inns      Opposition  \\\n",
       "10    107  114  11   1   93.85    4      caught     2     v Sri Lanka   \n",
       "12    102   95  11   0  107.36    3     not out     2    v Bangladesh   \n",
       "21    118  121  11   1   97.52    3      caught     2     v Australia   \n",
       "22    105  104  10   0  100.96    3      caught     1   v New Zealand   \n",
       "47    107   93   9   1  115.05    4  hit wicket     1       v England   \n",
       "49    112   98  16   0  114.28    4     not out     2       v England   \n",
       "54    117  123  14   0   95.12    4      caught     2   v West Indies   \n",
       "63    106  113   9   0   93.80    3      caught     1     v Sri Lanka   \n",
       "66    128  119  12   1  107.56    3     not out     2     v Sri Lanka   \n",
       "78    102   83  13   2  122.89    3      caught     1   v West Indies   \n",
       "79    115  108  13   1  106.48    3      caught     2      v Zimbabwe   \n",
       "85    115   66  18   1  174.24    3     not out     2     v Australia   \n",
       "92    123  111  11   2  110.81    3      caught     2   v New Zealand   \n",
       "96    136  122  16   2  111.47    3      bowled     2    v Bangladesh   \n",
       "103   127  114  13   3  111.40    3     run out     1   v West Indies   \n",
       "108   139  126  12   3  110.31    4     not out     2     v Sri Lanka   \n",
       "117   138  140   6   5   98.57    3      caught     1  v South Africa   \n",
       "121   117  117   7   2  100.00    3      caught     1     v Australia   \n",
       "122   106   92  11   1  115.21    3      caught     2     v Australia   \n",
       "126   154  134  16   1  114.92    3     not out     2   v New Zealand   \n",
       "129   122  105   8   5  116.19    3      caught     2       v England   \n",
       "\n",
       "            Ground Start Date  Year  \n",
       "10         Kolkata  24-Dec-09  2009  \n",
       "12           Dhaka  11-Jan-10  2010  \n",
       "21   Visakhapatnam  20-Oct-10  2010  \n",
       "22        Guwahati  28-Nov-10  2010  \n",
       "47         Cardiff  16-Sep-11  2011  \n",
       "49           Delhi  17-Oct-11  2011  \n",
       "54   Visakhapatnam   2-Dec-11  2011  \n",
       "63      Hambantota  21-Jul-12  2012  \n",
       "66   Colombo (RPS)  31-Jul-12  2012  \n",
       "78   Port of Spain   5-Jul-13  2013  \n",
       "79          Harare  24-Jul-13  2013  \n",
       "85          Nagpur  30-Oct-13  2013  \n",
       "92          Napier  19-Jan-14  2014  \n",
       "96        Fatullah  26-Feb-14  2014  \n",
       "103     Dharamsala  17-Oct-14  2014  \n",
       "108         Ranchi  16-Nov-14  2014  \n",
       "117        Chennai  22-Oct-15  2015  \n",
       "121      Melbourne  17-Jan-16  2016  \n",
       "122       Canberra  20-Jan-16  2016  \n",
       "126         Mohali  23-Oct-16  2016  \n",
       "129           Pune  15-Jan-17  2017  "
      ]
     },
     "execution_count": 206,
     "metadata": {},
     "output_type": "execute_result"
    }
   ],
   "source": [
    "centuries"
   ]
  },
  {
   "cell_type": "code",
   "execution_count": 207,
   "metadata": {},
   "outputs": [
    {
     "data": {
      "text/plain": [
       "Year\n",
       "2009    1\n",
       "2010    3\n",
       "2011    3\n",
       "2012    2\n",
       "2013    3\n",
       "2014    4\n",
       "2015    1\n",
       "2016    3\n",
       "2017    1\n",
       "Name: Runs, dtype: int64"
      ]
     },
     "execution_count": 207,
     "metadata": {},
     "output_type": "execute_result"
    }
   ],
   "source": [
    "centuries.groupby(\"Year\")[\"Runs\"].count()"
   ]
  },
  {
   "cell_type": "code",
   "execution_count": 328,
   "metadata": {},
   "outputs": [
    {
     "data": {
      "image/png": "[encoded data removed]",
      "text/plain": [
       "<Figure size 1200x500 with 1 Axes>"
      ]
     },
     "metadata": {},
     "output_type": "display_data"
    }
   ],
   "source": [
    "val = centuries.groupby(\"Year\")[\"Runs\"].count()\n",
    "plt.figure(figsize=(12, 5))\n",
    "sns.barplot(\n",
    "    x=centuries[\"Year\"].unique(),\n",
    "    y=centuries.groupby(\"Year\")[\"Runs\"].count(),\n",
    "    hue=centuries[\"Year\"].unique(),\n",
    ")\n",
    "plt.ylim(0, 5)\n",
    "plt.xlabel(\"Years\")\n",
    "\n",
    "plt.ylabel(\"Centuries Count\")\n",
    "\n",
    "plt.title(\"Centuries Count in Years\")\n",
    "for index, value in enumerate(val):\n",
    "    plt.text(index, value, str(value), ha=\"center\", va=\"bottom\")\n",
    "plt.show()"
   ]
  },
  {
   "cell_type": "code",
   "execution_count": 209,
   "metadata": {},
   "outputs": [
    {
     "data": {
      "text/plain": [
       "Inns\n",
       "1     7\n",
       "2    14\n",
       "Name: Runs, dtype: int64"
      ]
     },
     "execution_count": 209,
     "metadata": {},
     "output_type": "execute_result"
    }
   ],
   "source": [
    "centuries.groupby(\"Inns\")[\"Runs\"].count()"
   ]
  },
  {
   "cell_type": "code",
   "execution_count": 330,
   "metadata": {},
   "outputs": [
    {
     "data": {
      "text/plain": [
       "Text(0, 0.5, 'Number of centuris')"
      ]
     },
     "execution_count": 330,
     "metadata": {},
     "output_type": "execute_result"
    },
    {
     "data": {
      "image/png": "[encoded data removed]",
      "text/plain": [
       "<Figure size 640x480 with 1 Axes>"
      ]
     },
     "metadata": {},
     "output_type": "display_data"
    }
   ],
   "source": [
    "sns.barplot(x=centuries[\"Inns\"].unique(), y=centuries.groupby(\"Inns\")[\"Runs\"].count())\n",
    "plt.title(\"Number of centuris In Inneing\")\n",
    "plt.xlabel(\"Inning\")\n",
    "plt.ylabel(\"Number of centuris\")"
   ]
  },
  {
   "cell_type": "markdown",
   "metadata": {},
   "source": [
    "#### Here the show how many centuris is make in 1 and 2 inning "
   ]
  },
  {
   "cell_type": "code",
   "execution_count": 211,
   "metadata": {},
   "outputs": [
    {
     "data": {
      "text/plain": [
       "array(['v Sri Lanka', 'v Australia', 'v Bangladesh', 'v South Africa',\n",
       "       'v Zimbabwe', 'v New Zealand', 'v Ireland', 'v Netherlands',\n",
       "       'v West Indies', 'v Pakistan', 'v England'], dtype=object)"
      ]
     },
     "execution_count": 211,
     "metadata": {},
     "output_type": "execute_result"
    }
   ],
   "source": [
    "df[\"Opposition\"].unique()"
   ]
  },
  {
   "cell_type": "code",
   "execution_count": 212,
   "metadata": {},
   "outputs": [],
   "source": [
    "df[\"Opposition\"] = df[\"Opposition\"].apply(lambda x: x[1:].strip())"
   ]
  },
  {
   "cell_type": "code",
   "execution_count": 213,
   "metadata": {},
   "outputs": [
    {
     "data": {
      "text/plain": [
       "['Australia',\n",
       " 'Bangladesh',\n",
       " 'England',\n",
       " 'Ireland',\n",
       " 'Netherlands',\n",
       " 'New Zealand',\n",
       " 'Pakistan',\n",
       " 'South Africa',\n",
       " 'Sri Lanka',\n",
       " 'West Indies',\n",
       " 'Zimbabwe']"
      ]
     },
     "execution_count": 213,
     "metadata": {},
     "output_type": "execute_result"
    }
   ],
   "source": [
    "sorted(df[\"Opposition\"].unique())"
   ]
  },
  {
   "cell_type": "code",
   "execution_count": 214,
   "metadata": {},
   "outputs": [
    {
     "data": {
      "text/plain": [
       "Opposition\n",
       "Australia        999\n",
       "Bangladesh       544\n",
       "England          830\n",
       "Ireland           34\n",
       "Netherlands       12\n",
       "New Zealand      877\n",
       "Pakistan          22\n",
       "South Africa     558\n",
       "Sri Lanka       1084\n",
       "West Indies     1009\n",
       "Zimbabwe         215\n",
       "Name: Runs, dtype: int64"
      ]
     },
     "execution_count": 214,
     "metadata": {},
     "output_type": "execute_result"
    }
   ],
   "source": [
    "df.groupby(\"Opposition\")[\"Runs\"].sum()"
   ]
  },
  {
   "cell_type": "code",
   "execution_count": 331,
   "metadata": {},
   "outputs": [
    {
     "data": {
      "image/png": "[encoded data removed]",
      "text/plain": [
       "<Figure size 1200x500 with 1 Axes>"
      ]
     },
     "metadata": {},
     "output_type": "display_data"
    }
   ],
   "source": [
    "val = df.groupby(\"Opposition\")[\"Runs\"].sum()\n",
    "plt.figure(figsize=(12, 5))\n",
    "sns.barplot(\n",
    "    x=sorted(df[\"Opposition\"].unique()),\n",
    "    y=df.groupby(\"Opposition\")[\"Runs\"].sum(),\n",
    "    hue=sorted(df[\"Opposition\"].unique()),\n",
    ")\n",
    "plt.xticks(rotation=\"vertical\")\n",
    "# plt.legend()\n",
    "plt.xlabel(\"Opposition country\")\n",
    "plt.ylabel(\"Total Runs\")\n",
    "plt.title(\"Virat kohli Total Runs with Opposition country\")\n",
    "for index, value in enumerate(val):\n",
    "    plt.text(index, value, str(value), ha=\"center\", va=\"bottom\")\n",
    "plt.show()"
   ]
  },
  {
   "cell_type": "markdown",
   "metadata": {},
   "source": [
    "#### Here the total runs was done by the virat kholi with the opposition country"
   ]
  },
  {
   "cell_type": "code",
   "execution_count": 217,
   "metadata": {},
   "outputs": [
    {
     "data": {
      "text/plain": [
       "array(['v Sri Lanka', 'v Bangladesh', 'v Australia', 'v New Zealand',\n",
       "       'v England', 'v West Indies', 'v Zimbabwe', 'v South Africa'],\n",
       "      dtype=object)"
      ]
     },
     "execution_count": 217,
     "metadata": {},
     "output_type": "execute_result"
    }
   ],
   "source": [
    "centuries[\"Opposition\"].unique()"
   ]
  },
  {
   "cell_type": "code",
   "execution_count": 218,
   "metadata": {},
   "outputs": [],
   "source": [
    "centuries.loc[:, \"Opposition\"] = centuries[\"Opposition\"].apply(lambda x: x[1:].strip())"
   ]
  },
  {
   "cell_type": "code",
   "execution_count": 219,
   "metadata": {},
   "outputs": [
    {
     "data": {
      "text/plain": [
       "['Australia',\n",
       " 'Bangladesh',\n",
       " 'England',\n",
       " 'New Zealand',\n",
       " 'South Africa',\n",
       " 'Sri Lanka',\n",
       " 'West Indies',\n",
       " 'Zimbabwe']"
      ]
     },
     "execution_count": 219,
     "metadata": {},
     "output_type": "execute_result"
    }
   ],
   "source": [
    "sorted(centuries[\"Opposition\"].unique())"
   ]
  },
  {
   "cell_type": "code",
   "execution_count": 262,
   "metadata": {},
   "outputs": [
    {
     "data": {
      "text/plain": [
       "Opposition\n",
       "Australia       4\n",
       "Bangladesh      2\n",
       "England         3\n",
       "New Zealand     3\n",
       "South Africa    1\n",
       "Sri Lanka       4\n",
       "West Indies     3\n",
       "Zimbabwe        1\n",
       "Name: Runs, dtype: int64"
      ]
     },
     "execution_count": 262,
     "metadata": {},
     "output_type": "execute_result"
    }
   ],
   "source": [
    "centuries.groupby(\"Opposition\")[\"Runs\"].count()"
   ]
  },
  {
   "cell_type": "code",
   "execution_count": 332,
   "metadata": {},
   "outputs": [
    {
     "data": {
      "image/png": "[encoded data removed]",
      "text/plain": [
       "<Figure size 1200x500 with 1 Axes>"
      ]
     },
     "metadata": {},
     "output_type": "display_data"
    }
   ],
   "source": [
    "val = centuries.groupby(\"Opposition\")[\"Runs\"].count()\n",
    "plt.figure(figsize=(12, 5))\n",
    "sns.barplot(\n",
    "    x=sorted(centuries[\"Opposition\"].unique()),\n",
    "    y=centuries.groupby(\"Opposition\")[\"Runs\"].count(),\n",
    "    hue=sorted(centuries[\"Opposition\"].unique()),\n",
    ")\n",
    "plt.xticks(rotation=\"vertical\")\n",
    "plt.xlabel(\"Opposition Country\")\n",
    "plt.ylim(0, 5)\n",
    "plt.title(\"Virat kohli Total centuries with Opposition country\")\n",
    "for index, value in enumerate(val):\n",
    "    plt.text(index, value, str(value), ha=\"center\", va=\"bottom\")\n",
    "plt.show()"
   ]
  },
  {
   "cell_type": "code",
   "execution_count": 290,
   "metadata": {},
   "outputs": [
    {
     "data": {
      "text/plain": [
       "0       54.54\n",
       "2       65.78\n",
       "3       81.81\n",
       "5      100.00\n",
       "8      142.10\n",
       "9       83.07\n",
       "13      67.39\n",
       "15       0.00\n",
       "16      62.06\n",
       "17      71.42\n",
       "18      82.35\n",
       "22     100.96\n",
       "28      64.70\n",
       "32     120.48\n",
       "35      33.33\n",
       "36      77.63\n",
       "38      42.85\n",
       "44      90.38\n",
       "45     100.00\n",
       "46      38.88\n",
       "47     115.05\n",
       "48      58.73\n",
       "52       0.00\n",
       "56     209.09\n",
       "57      94.11\n",
       "62      80.48\n",
       "63      93.80\n",
       "64      20.00\n",
       "67      65.71\n",
       "68       0.00\n",
       "70      41.17\n",
       "72      68.51\n",
       "75       0.00\n",
       "76     126.47\n",
       "77      52.38\n",
       "78     122.89\n",
       "80      77.77\n",
       "84      93.15\n",
       "86       0.00\n",
       "88      99.00\n",
       "94      20.00\n",
       "97       0.00\n",
       "102     79.48\n",
       "103    111.40\n",
       "104    104.76\n",
       "107    103.12\n",
       "109     56.25\n",
       "112     85.18\n",
       "113     71.42\n",
       "115     66.66\n",
       "117     98.57\n",
       "119     93.81\n",
       "120     88.05\n",
       "121    100.00\n",
       "128     85.52\n",
       "130    160.00\n",
       "Name: SR, dtype: float64"
      ]
     },
     "execution_count": 290,
     "metadata": {},
     "output_type": "execute_result"
    }
   ],
   "source": [
    "df[df[\"Inns\"] == 1][\"SR\"]"
   ]
  },
  {
   "cell_type": "code",
   "execution_count": 293,
   "metadata": {},
   "outputs": [
    {
     "data": {
      "text/plain": [
       "<matplotlib.lines.Line2D at 0x20913da34d0>"
      ]
     },
     "execution_count": 293,
     "metadata": {},
     "output_type": "execute_result"
    },
    {
     "data": {
      "image/png": "[encoded data removed]",
      "text/plain": [
       "<Figure size 1500x600 with 1 Axes>"
      ]
     },
     "metadata": {},
     "output_type": "display_data"
    }
   ],
   "source": [
    "plt.figure(figsize=(15, 6))\n",
    "sns.scatterplot(df[df[\"Inns\"] == 1][\"SR\"])\n",
    "sns.scatterplot(df[df[\"Inns\"] == 2][\"SR\"])\n",
    "plt.legend([\"First inning\", \"Secound inning\"])\n",
    "plt.axhline(100, color=\"r\", linestyle=\"--\")"
   ]
  },
  {
   "cell_type": "code",
   "execution_count": 334,
   "metadata": {},
   "outputs": [
    {
     "data": {
      "text/plain": [
       "Inns\n",
       "1    209.09\n",
       "2    192.30\n",
       "Name: SR, dtype: float64"
      ]
     },
     "execution_count": 334,
     "metadata": {},
     "output_type": "execute_result"
    }
   ],
   "source": [
    "df.groupby('Inns')['SR'].max()"
   ]
  },
  {
   "cell_type": "code",
   "execution_count": 338,
   "metadata": {},
   "outputs": [
    {
     "data": {
      "image/png": "[encoded data removed]",
      "text/plain": [
       "<Figure size 640x480 with 1 Axes>"
      ]
     },
     "metadata": {},
     "output_type": "display_data"
    }
   ],
   "source": [
    "val = df.groupby('Inns')['SR'].max()\n",
    "plt.xlabel(\"Inns\")\n",
    "sns.barplot(x=df['Inns'].unique(),y=df.groupby('Inns')['SR'].max())\n",
    "plt.xlabel(\"Inns\")\n",
    "plt.title(\"Highest SR in ining\")\n",
    "for index, value in enumerate(val):\n",
    "    plt.text(index, value, str(value), ha=\"center\", va=\"bottom\")\n"
   ]
  },
  {
   "cell_type": "code",
   "execution_count": null,
   "metadata": {},
   "outputs": [],
   "source": [
    "plt.figure(figsize=(15, 6))\n"
   ]
  },
  {
   "cell_type": "code",
   "execution_count": 239,
   "metadata": {},
   "outputs": [
    {
     "data": {
      "text/plain": [
       "Text(0.5, 1.0, 'Reation ship between Runs and Fours')"
      ]
     },
     "execution_count": 239,
     "metadata": {},
     "output_type": "execute_result"
    },
    {
     "data": {
      "image/png": "[encoded data removed]",
      "text/plain": [
       "<Figure size 1200x500 with 1 Axes>"
      ]
     },
     "metadata": {},
     "output_type": "display_data"
    }
   ],
   "source": [
    "plt.figure(figsize=(12, 5))\n",
    "plt.scatter(df[\"Runs\"], df[\"4s\"])\n",
    "plt.ylim(0, 18)\n",
    "plt.xlabel(\"Runs\")\n",
    "plt.ylabel(\"4s\")\n",
    "plt.title(\"Reation ship between Runs and Fours\")"
   ]
  },
  {
   "cell_type": "code",
   "execution_count": 339,
   "metadata": {},
   "outputs": [
    {
     "data": {
      "text/plain": [
       "Text(0.5, 1.0, 'Reation ship between Runs and Six')"
      ]
     },
     "execution_count": 339,
     "metadata": {},
     "output_type": "execute_result"
    },
    {
     "data": {
      "image/png": "[encoded data removed]",
      "text/plain": [
       "<Figure size 1200x500 with 1 Axes>"
      ]
     },
     "metadata": {},
     "output_type": "display_data"
    }
   ],
   "source": [
    "plt.figure(figsize=(12, 5))\n",
    "plt.scatter(df[\"Runs\"], df[\"6s\"])\n",
    "plt.xlabel(\"Runs\")\n",
    "plt.ylabel(\"6s\")\n",
    "plt.title(\"Reation ship between Runs and Six\")"
   ]
  }
 ],
 "metadata": {
  "kernelspec": {
   "display_name": "Python 3",
   "language": "python",
   "name": "python3"
  },
  "language_info": {
   "codemirror_mode": {
    "name": "ipython",
    "version": 3
   },
   "file_extension": ".py",
   "mimetype": "text/x-python",
   "name": "python",
   "nbconvert_exporter": "python",
   "pygments_lexer": "ipython3",
   "version": "3.12.0"
  }
 },
 "nbformat": 4,
 "nbformat_minor": 2
}
